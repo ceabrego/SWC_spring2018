{
 "cells": [
  {
   "cell_type": "code",
   "execution_count": 1,
   "metadata": {},
   "outputs": [],
   "source": [
    "# this is to plot the life expectancy of Canada\n",
    "# importing packages\n",
    "import pandas as pd\n",
    "import matplotlib.pyplot as plt\n",
    "# read data frame\n",
    "my_file=pd.read_table(\"gapminder.txt\")\n",
    "# subsetting data\n",
    "Canada = my_file.loc[my_file['country']==\"Canada\",:]\n",
    "#Canada_life=Canda.loc[Canada['']]\n",
    "# plotting\n",
    "Canada.plot.line(x=\"year\",y=\"lifeExp\", label=\"Life Expectancy\", figsize=(8,6))\n",
    "plt.suptitle(\"Life Expectancy in Canada over the Years\", fontsize=20)\n",
    "plt.xlabel(\"Year\",fontsize=16)\n",
    "plt.ylabel(\"Life Expectancy\",fontsize=16)\n",
    "plt.savefig(\"PlotLifeExpectancy.png\")"
   ]
  },
  {
   "cell_type": "code",
   "execution_count": null,
   "metadata": {},
   "outputs": [],
   "source": []
  }
 ],
 "metadata": {
  "kernelspec": {
   "display_name": "Python 3",
   "language": "python",
   "name": "python3"
  },
  "language_info": {
   "codemirror_mode": {
    "name": "ipython",
    "version": 3
   },
   "file_extension": ".py",
   "mimetype": "text/x-python",
   "name": "python",
   "nbconvert_exporter": "python",
   "pygments_lexer": "ipython3",
   "version": "3.6.4"
  }
 },
 "nbformat": 4,
 "nbformat_minor": 2
}
